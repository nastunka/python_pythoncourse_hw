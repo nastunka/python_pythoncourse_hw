{
  "cells": [
    {
      "cell_type": "markdown",
      "metadata": {
        "id": "9ngpqNFm8w1a"
      },
      "source": [
        "# Домашнє завдання до теми \"Основи роботи з рядками та математичні операції\""
      ]
    },
    {
      "cell_type": "markdown",
      "metadata": {
        "id": "DEkQSeSyTum-"
      },
      "source": [
        "1. Створіть змінні `a`, `b`, `c` та `d`, задайте їм значення відповідно 101, 210, 111, 402, та обчисліть з допомогою Python наступний вираз:  $$ \\frac{(a+b) * c}{d} $$\n",
        "\n",
        "**Важливо**: тут ми маємо обчислити значення саме з використанням змінних, а не просто чисел, як би ми робили у калькуряторі. Змінні потрібні аби за бажання ми могли змінити їх значення та не переписувати код обчислення виразу, бо він буде працювати для різних значень змінних."
      ]
    },
    {
      "cell_type": "code",
      "execution_count": null,
      "metadata": {
        "colab": {
          "base_uri": "https://localhost:8080/"
        },
        "id": "u1ICQq5L3eKH",
        "outputId": "40757490-e4ff-419d-aa1d-96a647469a9d"
      },
      "outputs": [
        {
          "name": "stdout",
          "output_type": "stream",
          "text": [
            "85.8731343283582\n"
          ]
        }
      ],
      "source": [
        "a = 101\n",
        "b = 210\n",
        "c = 111\n",
        "d = 402\n",
        "e = (a + b) * c / d\n",
        "print(e)"
      ]
    },
    {
      "cell_type": "markdown",
      "metadata": {
        "id": "FnBVPt7G3bcR"
      },
      "source": [
        "Очікувана відповідь: 85.8731343283582"
      ]
    },
    {
      "cell_type": "markdown",
      "metadata": {
        "id": "HI3eEYZRT4Cn"
      },
      "source": [
        "2. Якою буде остача від ділення числа 11283 на 89? Обчисліть з допомогою Python."
      ]
    },
    {
      "cell_type": "code",
      "execution_count": null,
      "metadata": {
        "colab": {
          "base_uri": "https://localhost:8080/"
        },
        "id": "Q0OlC2NjSF8g",
        "outputId": "4e4d2961-83b8-404f-e4cc-659abd0acc81"
      },
      "outputs": [
        {
          "name": "stdout",
          "output_type": "stream",
          "text": [
            "69\n"
          ]
        }
      ],
      "source": [
        "a = 11283\n",
        "b = 89\n",
        "c =  a % b\n",
        "print(c)"
      ]
    },
    {
      "cell_type": "code",
      "execution_count": null,
      "metadata": {
        "colab": {
          "base_uri": "https://localhost:8080/"
        },
        "id": "ejZc3ng_TpgY",
        "outputId": "22bcd405-07a9-4c62-c301-04dea9c2fef4"
      },
      "outputs": [
        {
          "name": "stdout",
          "output_type": "stream",
          "text": [
            "85.8731343283582\n",
            "69\n"
          ]
        }
      ],
      "source": [
        "# prompt: a = 11283\n",
        "# b = 89\n",
        "# c =  a % b\n",
        "# print(c)\n",
        "\n",
        "# # Домашнє завдання до теми \"Основи роботи з рядками та математичні операції\"\n",
        "# 1. Створіть змінні `a`, `b`, `c` та `d`, задайте їм значення відповідно 101, 210, 111, 402, та обчисліть з допомогою Python наступний вираз:  $ \\frac{(a+b) * c}{d} $\n",
        "#\n",
        "# **Важливо**: тут ми маємо обчислити значення саме з використанням змінних, а не просто чисел, як би ми робили у калькуряторі. Змінні потрібні аби за бажання ми могли змінити їх значення та не переписувати код обчислення виразу, бо він буде працювати для різних значень змінних.\n",
        "a = 101\n",
        "b = 210\n",
        "c = 111\n",
        "d = 402\n",
        "e = (a + b) * c / d\n",
        "print(e)\n",
        "# Очікувана відповідь: 85.8731343283582\n",
        "# 2. Якою буде остача від ділення числа 11283 на 89? Обчисліть з допомогою Python.\n",
        "a = 11283\n",
        "b = 89\n",
        "c =  a % b\n",
        "print (c)\n"
      ]
    },
    {
      "cell_type": "markdown",
      "metadata": {
        "id": "RO02CqdqT9oG"
      },
      "source": [
        "3. Скільки цілих разів поміститься число 89 в 11283? (Або що те саме: який буде результат цілочисельного ділення 11283 на 89?)"
      ]
    },
    {
      "cell_type": "code",
      "execution_count": null,
      "metadata": {
        "colab": {
          "background_save": true,
          "base_uri": "https://localhost:8080/"
        },
        "id": "KEUb9lO5T_PI",
        "outputId": "c5872ea2-c31b-461c-c2c1-bc715973153e"
      },
      "outputs": [
        {
          "name": "stdout",
          "output_type": "stream",
          "text": [
            "126\n"
          ]
        }
      ],
      "source": [
        "a = 11283 // 89\n",
        "print(a)"
      ]
    },
    {
      "cell_type": "markdown",
      "metadata": {
        "id": "5fnIPumiT_rt"
      },
      "source": [
        "4. Запишіть у змінну `name` ваше імʼя."
      ]
    },
    {
      "cell_type": "code",
      "execution_count": null,
      "metadata": {
        "colab": {
          "background_save": true,
          "base_uri": "https://localhost:8080/"
        },
        "id": "xP7Mbq45UFlV",
        "outputId": "c44d4b5d-15ea-4746-8a08-8344a99503f6"
      },
      "outputs": [
        {
          "name": "stdout",
          "output_type": "stream",
          "text": [
            "Anastasiya\n"
          ]
        }
      ],
      "source": [
        "name = 'Anastasiya'\n",
        "print(name)"
      ]
    },
    {
      "cell_type": "markdown",
      "metadata": {
        "id": "fR9TqY79UNDL"
      },
      "source": [
        "5. Запишіть у змінну `surname` ваше прізвище."
      ]
    },
    {
      "cell_type": "code",
      "execution_count": null,
      "metadata": {
        "colab": {
          "base_uri": "https://localhost:8080/"
        },
        "id": "0qHjyMyvUOM1",
        "outputId": "444cb6d6-da3c-4572-9861-967095982145"
      },
      "outputs": [
        {
          "name": "stdout",
          "output_type": "stream",
          "text": [
            "Stelmakh\n"
          ]
        }
      ],
      "source": [
        "surname = 'Stelmakh'\n",
        "print(surname)"
      ]
    },
    {
      "cell_type": "markdown",
      "metadata": {
        "id": "zqKncQLwUOxh"
      },
      "source": [
        "6. Сконкатенуйте імʼя та прізвище в одну фразу через пробіл. Запишіть результат у нову змінну `name_surname` та виведіть результат на екран.  "
      ]
    },
    {
      "cell_type": "code",
      "execution_count": null,
      "metadata": {
        "colab": {
          "base_uri": "https://localhost:8080/"
        },
        "id": "8E-blvN-UTPg",
        "outputId": "c8dfa4d2-1cc2-4c43-ea95-afc44fb44854"
      },
      "outputs": [
        {
          "name": "stdout",
          "output_type": "stream",
          "text": [
            "Anastasiya Stelmakh\n"
          ]
        }
      ],
      "source": [
        "name_surname = name + ' ' + surname\n",
        "print(name_surname)"
      ]
    },
    {
      "cell_type": "markdown",
      "metadata": {
        "id": "_Unl7EXlUgYn"
      },
      "source": [
        "Очікувана відповідь (тільки з вашими даними): 'Hanna Pylieva'"
      ]
    },
    {
      "cell_type": "markdown",
      "metadata": {
        "id": "z-3FI0IrUT0U"
      },
      "source": [
        "7. Зробіть усі літери змінної `name_surname` заглавними використовуючи метод рядків в Python:"
      ]
    },
    {
      "cell_type": "code",
      "execution_count": null,
      "metadata": {
        "colab": {
          "base_uri": "https://localhost:8080/"
        },
        "id": "9ahIwyT5UblY",
        "outputId": "db3b3b54-3826-4ab2-cbcb-592d00cbeb21"
      },
      "outputs": [
        {
          "name": "stdout",
          "output_type": "stream",
          "text": [
            "ANASTASIYA STELMAKH\n"
          ]
        }
      ],
      "source": [
        "print(name_surname.upper())"
      ]
    },
    {
      "cell_type": "markdown",
      "metadata": {
        "id": "6PDcqfmdUcLo"
      },
      "source": [
        "Очікувана відповідь (тільки з вашими даними): 'HANNA PYLIEVA'"
      ]
    },
    {
      "cell_type": "code",
      "execution_count": null,
      "metadata": {
        "id": "K40EaRr2UfsH"
      },
      "outputs": [],
      "source": []
    },
    {
      "cell_type": "markdown",
      "metadata": {
        "id": "qNl8KxeXUtnL"
      },
      "source": [
        "8. Виведіть третю літеру вашого `name_surname`. Тут уважно, треба саме третя літера. Згадайте, з якого значення починається індексування значень в Python."
      ]
    },
    {
      "cell_type": "code",
      "execution_count": null,
      "metadata": {
        "colab": {
          "base_uri": "https://localhost:8080/",
          "height": 35
        },
        "id": "Tp7stqAhUvJz",
        "outputId": "3c799c24-87c2-4c2a-f74d-d43a7d78ef3d"
      },
      "outputs": [
        {
          "data": {
            "application/vnd.google.colaboratory.intrinsic+json": {
              "type": "string"
            },
            "text/plain": [
              "'a'"
            ]
          },
          "execution_count": 11,
          "metadata": {},
          "output_type": "execute_result"
        }
      ],
      "source": [
        "name_surname[2]"
      ]
    },
    {
      "cell_type": "markdown",
      "metadata": {
        "id": "GYWHqb3UUvqk"
      },
      "source": [
        "Очікувана відповідь (тільки з вашими даними): 'n'"
      ]
    },
    {
      "cell_type": "markdown",
      "metadata": {
        "id": "1f3cc1a7"
      },
      "source": [
        "9. Виведіть першу та останню літеру вашого прізвища."
      ]
    },
    {
      "cell_type": "code",
      "execution_count": null,
      "metadata": {
        "colab": {
          "base_uri": "https://localhost:8080/"
        },
        "id": "dAxSg2TEYAAF",
        "outputId": "9993ff50-af55-4872-ccca-d860372e768b"
      },
      "outputs": [
        {
          "data": {
            "text/plain": [
              "19"
            ]
          },
          "execution_count": 18,
          "metadata": {},
          "output_type": "execute_result"
        }
      ],
      "source": [
        "len(name_surname)"
      ]
    },
    {
      "cell_type": "code",
      "execution_count": null,
      "metadata": {
        "colab": {
          "base_uri": "https://localhost:8080/",
          "height": 35
        },
        "id": "YoD6Z7oxYEc2",
        "outputId": "06c29db0-334f-4ebb-beea-8f4331411926"
      },
      "outputs": [
        {
          "data": {
            "application/vnd.google.colaboratory.intrinsic+json": {
              "type": "string"
            },
            "text/plain": [
              "'A'"
            ]
          },
          "execution_count": 19,
          "metadata": {},
          "output_type": "execute_result"
        }
      ],
      "source": [
        "name_surname[0]"
      ]
    },
    {
      "cell_type": "code",
      "execution_count": null,
      "metadata": {
        "colab": {
          "base_uri": "https://localhost:8080/",
          "height": 35
        },
        "id": "s1ZgN3xuUyB8",
        "outputId": "3b4dc520-3ae2-4e3b-8172-a0c72778c0fb"
      },
      "outputs": [
        {
          "data": {
            "application/vnd.google.colaboratory.intrinsic+json": {
              "type": "string"
            },
            "text/plain": [
              "'h'"
            ]
          },
          "execution_count": 20,
          "metadata": {},
          "output_type": "execute_result"
        }
      ],
      "source": [
        "name_surname[18]"
      ]
    },
    {
      "cell_type": "markdown",
      "metadata": {
        "id": "KjlFjjhHVAt2"
      },
      "source": [
        "Очікувана відповідь (тільки з вашими даними): ('P', 'a')"
      ]
    },
    {
      "cell_type": "markdown",
      "metadata": {
        "id": "UYLoho3DVMt2"
      },
      "source": [
        "10. Виведіть довжину вашого прізвища."
      ]
    },
    {
      "cell_type": "code",
      "execution_count": null,
      "metadata": {
        "colab": {
          "base_uri": "https://localhost:8080/"
        },
        "id": "0TPJBh0LVA8q",
        "outputId": "6eb3a7c1-86e0-4fb0-8e18-f0ff3742cc2f"
      },
      "outputs": [
        {
          "data": {
            "text/plain": [
              "8"
            ]
          },
          "execution_count": 21,
          "metadata": {},
          "output_type": "execute_result"
        }
      ],
      "source": [
        "len(surname)"
      ]
    },
    {
      "cell_type": "markdown",
      "metadata": {
        "id": "9FaxqvVgVRYW"
      },
      "source": [
        "Очікувана відповідь (тільки з вашими даними): 7\n"
      ]
    },
    {
      "cell_type": "markdown",
      "metadata": {
        "id": "JN2wxSlGVVAj"
      },
      "source": [
        "11. Виведіть кількість літер `a` у столиці Мадагаскару `Antananarivo`. Важливо врахувати всі літери, як великі, так і маленькі."
      ]
    },
    {
      "cell_type": "code",
      "execution_count": null,
      "metadata": {
        "colab": {
          "base_uri": "https://localhost:8080/"
        },
        "id": "LCeHHz9bVUgL",
        "outputId": "80ff5e34-942e-4c34-b78c-4d5d28cc1aad"
      },
      "outputs": [
        {
          "data": {
            "text/plain": [
              "12"
            ]
          },
          "execution_count": 22,
          "metadata": {},
          "output_type": "execute_result"
        }
      ],
      "source": [
        "len('Antananarivo')"
      ]
    },
    {
      "cell_type": "markdown",
      "metadata": {
        "id": "Ux4SQiuSVo92"
      },
      "source": [
        "Очікувана відповідь: 4"
      ]
    },
    {
      "cell_type": "markdown",
      "metadata": {
        "id": "mwEs0xnmVtes"
      },
      "source": [
        "12. Створіть рядок `my_string` зі значенням: \"The quick brown fox jumps over the lazy dog!!!\".   \n",
        "Перевірте, чи починається рядок `my_string` з \"The\" і чи закінчується він \"dog!\". Виведіть результати на екран."
      ]
    },
    {
      "cell_type": "code",
      "execution_count": null,
      "metadata": {
        "colab": {
          "base_uri": "https://localhost:8080/"
        },
        "id": "VlXDNpXcVs59",
        "outputId": "4bcfe957-db27-4cce-fe70-33743fb7e5bf"
      },
      "outputs": [
        {
          "name": "stdout",
          "output_type": "stream",
          "text": [
            "True\n",
            "False\n"
          ]
        }
      ],
      "source": [
        "my_string = 'The quick brown fox jumps over the lazy dog!!!'\n",
        "print(my_string.startswith('The'))\n",
        "print(my_string.endswith('dog!'))\n",
        "\n"
      ]
    },
    {
      "cell_type": "markdown",
      "metadata": {
        "id": "Yc-UwtqvV_h0"
      },
      "source": [
        "13. Розділіть рядок `my_string` на список окремих слів, а потім з'єднайте всі слова через нижнє підкреслювання. Виведіть результат на екран."
      ]
    },
    {
      "cell_type": "code",
      "execution_count": null,
      "metadata": {
        "colab": {
          "base_uri": "https://localhost:8080/"
        },
        "id": "qrRJ8LuQTK5m",
        "outputId": "94096475-082b-4597-e78f-6d7710f5dcb2"
      },
      "outputs": [
        {
          "name": "stdout",
          "output_type": "stream",
          "text": [
            "['The quick brown fox jumps over the lazy dog!!!']\n"
          ]
        }
      ],
      "source": [
        "print(my_string.split('_'))"
      ]
    },
    {
      "cell_type": "code",
      "execution_count": null,
      "metadata": {
        "colab": {
          "base_uri": "https://localhost:8080/",
          "height": 141
        },
        "id": "bgy02drDaI5a",
        "outputId": "0826d281-ddb8-459f-b416-58d521d8c9e7"
      },
      "outputs": [
        {
          "ename": "NameError",
          "evalue": "name 'my_string' is not defined",
          "output_type": "error",
          "traceback": [
            "\u001b[0;31m---------------------------------------------------------------------------\u001b[0m",
            "\u001b[0;31mNameError\u001b[0m                                 Traceback (most recent call last)",
            "\u001b[0;32m<ipython-input-2-5727088d2698>\u001b[0m in \u001b[0;36m<cell line: 1>\u001b[0;34m()\u001b[0m\n\u001b[0;32m----> 1\u001b[0;31m \u001b[0mprint\u001b[0m\u001b[0;34m(\u001b[0m\u001b[0mmy_string\u001b[0m\u001b[0;34m.\u001b[0m\u001b[0msplit\u001b[0m\u001b[0;34m(\u001b[0m\u001b[0;34m'_'\u001b[0m\u001b[0;34m)\u001b[0m\u001b[0;34m)\u001b[0m\u001b[0;34m\u001b[0m\u001b[0;34m\u001b[0m\u001b[0m\n\u001b[0m",
            "\u001b[0;31mNameError\u001b[0m: name 'my_string' is not defined"
          ]
        }
      ],
      "source": []
    },
    {
      "cell_type": "code",
      "execution_count": null,
      "metadata": {
        "colab": {
          "base_uri": "https://localhost:8080/"
        },
        "id": "m5I48Ii-WDSK",
        "outputId": "2cbbc476-48b5-43fd-9922-9372725c3176"
      },
      "outputs": [
        {
          "name": "stdout",
          "output_type": "stream",
          "text": [
            "['The', 'quick', 'brown', 'fox', 'jumps', 'over', 'the', 'lazy', 'dog!!!']\n"
          ]
        }
      ],
      "source": [
        "print(my_string.split())"
      ]
    },
    {
      "cell_type": "markdown",
      "metadata": {
        "id": "UqvD1_jIXRhx"
      },
      "source": [
        "Очікуваний результат: `The_quick_brown_fox_jumps_over_the_lazy_dog!!!`"
      ]
    }
  ],
  "metadata": {
    "colab": {
      "provenance": []
    },
    "kernelspec": {
      "display_name": "Python 3",
      "name": "python3"
    },
    "language_info": {
      "name": "python"
    }
  },
  "nbformat": 4,
  "nbformat_minor": 0
}